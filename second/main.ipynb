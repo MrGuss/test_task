{
 "cells": [
  {
   "cell_type": "markdown",
   "metadata": {},
   "source": [
    "# Задание 2\n",
    "\n",
    "Не особо понятна исходная модель данных, я ее сделал как понял, то есть таблица с именами и id продуктов, такая же для категорий, и связующая с id тех и других"
   ]
  },
  {
   "cell_type": "code",
   "execution_count": 7,
   "metadata": {},
   "outputs": [],
   "source": [
    "from pyspark.sql import SparkSession\n",
    "\n",
    "spark = SparkSession.builder.appName(\"ProductCategory\").getOrCreate()"
   ]
  },
  {
   "cell_type": "code",
   "execution_count": 8,
   "metadata": {},
   "outputs": [
    {
     "name": "stdout",
     "output_type": "stream",
     "text": [
      "root\n",
      " |-- cat_id: string (nullable = true)\n",
      " |-- cat_name: string (nullable = true)\n",
      "\n",
      "+------+----------+\n",
      "|cat_id|  cat_name|\n",
      "+------+----------+\n",
      "|     1|      food|\n",
      "|     2|vegetables|\n",
      "|     3|    fruits|\n",
      "|     4|    phones|\n",
      "+------+----------+\n",
      "\n"
     ]
    }
   ],
   "source": [
    "cat = spark.read.option(\"header\",True) \\\n",
    "          .csv(\"cat.csv\")\n",
    "cat.printSchema()\n",
    "cat.show()"
   ]
  },
  {
   "cell_type": "code",
   "execution_count": 9,
   "metadata": {},
   "outputs": [
    {
     "name": "stdout",
     "output_type": "stream",
     "text": [
      "root\n",
      " |-- prod_id: string (nullable = true)\n",
      " |-- cat_id: string (nullable = true)\n",
      "\n",
      "+-------+------+\n",
      "|prod_id|cat_id|\n",
      "+-------+------+\n",
      "|      1|     4|\n",
      "|      2|     1|\n",
      "|      2|     3|\n",
      "|      3|     4|\n",
      "|      4|     1|\n",
      "|      4|     2|\n",
      "|      5|     4|\n",
      "|      6|     1|\n",
      "|      6|     2|\n",
      "|      7|  null|\n",
      "+-------+------+\n",
      "\n"
     ]
    }
   ],
   "source": [
    "conn = spark.read.option(\"header\",True) \\\n",
    "          .csv(\"conn.csv\")\n",
    "conn.printSchema()\n",
    "conn.show()"
   ]
  },
  {
   "cell_type": "code",
   "execution_count": 10,
   "metadata": {},
   "outputs": [
    {
     "name": "stdout",
     "output_type": "stream",
     "text": [
      "root\n",
      " |-- prod_id: string (nullable = true)\n",
      " |-- prod_name: string (nullable = true)\n",
      "\n",
      "+-------+---------+\n",
      "|prod_id|prod_name|\n",
      "+-------+---------+\n",
      "|      1|   iphone|\n",
      "|      2|    apple|\n",
      "|      3|  samsung|\n",
      "|      4|   carrot|\n",
      "|      5|   xiaomi|\n",
      "|      6|   potato|\n",
      "|      7|  keboard|\n",
      "+-------+---------+\n",
      "\n"
     ]
    }
   ],
   "source": [
    "prod = spark.read.option(\"header\",True) \\\n",
    "          .csv(\"prod.csv\")\n",
    "prod.printSchema()\n",
    "prod.show()"
   ]
  },
  {
   "cell_type": "code",
   "execution_count": 11,
   "metadata": {},
   "outputs": [
    {
     "name": "stdout",
     "output_type": "stream",
     "text": [
      "root\n",
      " |-- prod_name: string (nullable = true)\n",
      " |-- cat_id: string (nullable = true)\n",
      "\n",
      "+---------+------+\n",
      "|prod_name|cat_id|\n",
      "+---------+------+\n",
      "|   iphone|     4|\n",
      "|    apple|     1|\n",
      "|    apple|     3|\n",
      "|  samsung|     4|\n",
      "|   carrot|     1|\n",
      "|   carrot|     2|\n",
      "|   xiaomi|     4|\n",
      "|   potato|     1|\n",
      "|   potato|     2|\n",
      "|  keboard|  null|\n",
      "+---------+------+\n",
      "\n"
     ]
    }
   ],
   "source": [
    "joined = conn.join(prod, conn.prod_id == prod.prod_id, \"left\").select('prod_name', 'cat_id')\n",
    "joined.printSchema()\n",
    "joined.show()"
   ]
  },
  {
   "cell_type": "code",
   "execution_count": 12,
   "metadata": {},
   "outputs": [
    {
     "name": "stdout",
     "output_type": "stream",
     "text": [
      "root\n",
      " |-- prod_name: string (nullable = true)\n",
      " |-- cat_name: string (nullable = true)\n",
      "\n",
      "+---------+----------+\n",
      "|prod_name|  cat_name|\n",
      "+---------+----------+\n",
      "|   iphone|    phones|\n",
      "|    apple|      food|\n",
      "|    apple|    fruits|\n",
      "|  samsung|    phones|\n",
      "|   carrot|      food|\n",
      "|   carrot|vegetables|\n",
      "|   xiaomi|    phones|\n",
      "|   potato|      food|\n",
      "|   potato|vegetables|\n",
      "|  keboard|      null|\n",
      "+---------+----------+\n",
      "\n"
     ]
    }
   ],
   "source": [
    "joined = joined.join(cat, joined.cat_id == cat.cat_id, \"left\").select('prod_name','cat_name')\n",
    "joined.printSchema()\n",
    "joined.show()"
   ]
  }
 ],
 "metadata": {
  "kernelspec": {
   "display_name": "test_task",
   "language": "python",
   "name": "python3"
  },
  "language_info": {
   "codemirror_mode": {
    "name": "ipython",
    "version": 3
   },
   "file_extension": ".py",
   "mimetype": "text/x-python",
   "name": "python",
   "nbconvert_exporter": "python",
   "pygments_lexer": "ipython3",
   "version": "3.11.5"
  },
  "orig_nbformat": 4
 },
 "nbformat": 4,
 "nbformat_minor": 2
}
